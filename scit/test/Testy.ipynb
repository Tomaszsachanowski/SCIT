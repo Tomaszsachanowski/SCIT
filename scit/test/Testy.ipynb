{
 "cells": [
  {
   "cell_type": "code",
   "execution_count": 1,
   "id": "cddfc2d5",
   "metadata": {},
   "outputs": [],
   "source": [
    "from collections import Counter\n",
    "import matplotlib.pyplot as plt\n",
    "import random\n",
    "import requests\n",
    "import timeit\n",
    "from bs4 import BeautifulSoup\n",
    "import time\n",
    "import pandas as pd\n",
    "import seaborn as sns"
   ]
  },
  {
   "cell_type": "code",
   "execution_count": 2,
   "id": "34b210b7",
   "metadata": {},
   "outputs": [],
   "source": [
    "ADDR = 'localhost'\n",
    "PORT = 4000\n",
    "CODES = Counter()\n",
    "CODES2 = []\n",
    "\n",
    "PHONES = ['IP12', 'IP13P', 'REA5', 'REAX2']"
   ]
  },
  {
   "cell_type": "code",
   "execution_count": 3,
   "id": "82b6d09e",
   "metadata": {},
   "outputs": [],
   "source": [
    "def get():\n",
    "    r = requests.get(\"http://{}:{}\".format(ADDR, PORT))\n",
    "    html = BeautifulSoup(r.text)\n",
    "    CODES[r.status_code] += 1\n",
    "    CODES2.append(r.status_code)\n",
    "    return r\n",
    "\n",
    "def post():\n",
    "    r = requests.post(\"http://{}:{}/add\".format(ADDR, PORT), data={'quantity': 1, 'code': random.choice(PHONES)})\n",
    "    CODES[r.status_code] += 1\n",
    "    CODES2.append(r.status_code)\n",
    "    return r\n",
    "    \n",
    "def static():\n",
    "    r = requests.get(\"http://{}:{}/static/images/Iphone_13Pro.jpeg\".format(ADDR, PORT))\n",
    "    CODES[r.status_code] += 1\n",
    "    CODES2.append(r.status_code)\n",
    "    return r\n"
   ]
  },
  {
   "cell_type": "markdown",
   "id": "7ba33eb0",
   "metadata": {},
   "source": [
    "# Test 1 Sprawdzenie czy zmieniają sie maszyny"
   ]
  },
  {
   "cell_type": "code",
   "execution_count": 4,
   "id": "12356656",
   "metadata": {},
   "outputs": [],
   "source": [
    "counter = 0\n",
    "result_list = list()\n",
    "for i in range(100):\n",
    "    r = get()\n",
    "    html = BeautifulSoup(r.text)\n",
    "    vm_name = html.title.text.split(\":\")[-1]\n",
    "    result = {\n",
    "        'vm_name': vm_name,\n",
    "        'time': counter,\n",
    "        'y': 1\n",
    "    }\n",
    "    result_list.append(result)\n",
    "    counter = 2*i\n",
    "    time.sleep(3)"
   ]
  },
  {
   "cell_type": "code",
   "execution_count": 5,
   "id": "d04f61bc",
   "metadata": {},
   "outputs": [],
   "source": [
    "df = pd.DataFrame(result_list)"
   ]
  },
  {
   "cell_type": "code",
   "execution_count": 6,
   "id": "0748e382",
   "metadata": {
    "scrolled": false
   },
   "outputs": [
    {
     "data": {
      "image/png": "[encoded data removed]",
      "text/plain": [
       "<Figure size 720x720 with 1 Axes>"
      ]
     },
     "metadata": {
      "needs_background": "light"
     },
     "output_type": "display_data"
    }
   ],
   "source": [
    "fig, ax = plt.subplots(figsize=(10,10))\n",
    "sns.scatterplot(x='time', y='y', hue='vm_name', data=df) \n",
    "plt.show()"
   ]
  },
  {
   "cell_type": "code",
   "execution_count": null,
   "id": "f34788bf",
   "metadata": {},
   "outputs": [],
   "source": []
  }
 ],
 "metadata": {
  "kernelspec": {
   "display_name": "Python 3",
   "language": "python",
   "name": "python3"
  },
  "language_info": {
   "codemirror_mode": {
    "name": "ipython",
    "version": 3
   },
   "file_extension": ".py",
   "mimetype": "text/x-python",
   "name": "python",
   "nbconvert_exporter": "python",
   "pygments_lexer": "ipython3",
   "version": "3.8.8"
  }
 },
 "nbformat": 4,
 "nbformat_minor": 5
}
